{
 "cells": [
  {
   "cell_type": "code",
   "execution_count": 1,
   "metadata": {
    "scrolled": false
   },
   "outputs": [
    {
     "data": {
      "application/javascript": [
       "MathJax.Hub.Config({\n",
       "    TeX: { equationNumbers: { autoNumber: \"AMS\" } }\n",
       "});"
      ],
      "text/plain": [
       "<IPython.core.display.Javascript object>"
      ]
     },
     "metadata": {},
     "output_type": "display_data"
    }
   ],
   "source": [
    "%%javascript\n",
    "MathJax.Hub.Config({\n",
    "    TeX: { equationNumbers: { autoNumber: \"AMS\" } }\n",
    "});"
   ]
  },
  {
   "cell_type": "markdown",
   "metadata": {},
   "source": [
    "Copyright (C) 2021 Swiss Tropical and Public Health Institute\n",
    "\n",
    "This malaria model is free software; you can redistribute it and/or modify it under the terms of version 2 of the GNU General Public License as published by the Free Software Foundation."
   ]
  },
  {
   "cell_type": "markdown",
   "metadata": {},
   "source": [
    "# Impact of human movement on malaria persistence in Zanzibar\n",
    "\n",
    "A study conducted in Zanzibar to examine reactive case detection highlighted that many of the index cases may have been imported from the mainland. Similarly, the probability of a non-index traveller testing positive for malaria was higher if they had travelled in th`e past 60 days, though this result was not statistically significant ([Stuck et al. 2020](https://www.sciencedirect.com/science/article/pii/S1201971220304525)). Further transmission from these imported cases may help malaria to persist on Zanzibar. We will use an ODE model to investigate the role played by imported cases in the persistence of the disease on the island. \n",
    "\n",
    "## Deterministic model - no RCD\n",
    "The change in the proportion of a patch that is infected changes by the following equation:\n",
    "    $$\\begin{align}\n",
    "    \\frac{\\mathrm{d}I_k}{\\mathrm{d}t} = \\sum_{i=1}^{n} \\left(\\beta_i \\left(\\frac{\\sum_{j=1}^{n} N_j\\theta_{ij}I_j}{\\sum_{j=1}^{n} N_j \\theta_{ij}}\\right)\\theta_{ik}\\right)(1-I_k) - \\mu I_k\n",
    "    \\end{align}$$\n",
    "\n",
    "where $I_k$ is the proportion of infectious individuals in patch $k$, $N_k$ is the total number of individuals in patch $k$, $\\beta_k$ is the transmission rate in patch $k$, $\\mu$ is the clearance rate of infections, $\\theta_{ij}$ is the proportion of time an individual from patch $j$ spends in patch $i$, and $n$ is the total number of patches.\n",
    "\n",
    "At equilibrium, the left hand side of equation 1 is at 0. The system can then be rearranged to the following:\n",
    "    $$\\begin{align}\n",
    "    \\frac{\\mu I_k}{1-I_k} = \\sum_{i=1}^{n} \\left(\\beta_i A_i \\theta_{ik}\\right)\n",
    "    \\end{align}$$\n",
    "where    \n",
    "    $$A_i = \\frac{\\sum_{j=1}^{n} N_j\\theta_{ij}I_j}{\\sum_{j=1}^{n} N_j \\theta_{ij}}$$\n",
    "    \n",
    "Assuming the system is at equilibrium, $\\beta_i$ can be derived. \n",
    "    $$\n",
    "    \\begin{align}\n",
    "    \\begin{pmatrix}\n",
    "    A_1 \\theta_{11} & \\dots & A_n \\theta_{n1}\\\\\n",
    "    \\vdots& &\\vdots\\\\\n",
    "    A_1 \\theta_{1n}&\\dots& A_{n} \\theta_{nn}\\\\\n",
    "    \\end{pmatrix}\n",
    "    \\begin{pmatrix}\n",
    "    \\beta_1\\\\\n",
    "    \\vdots\\\\\n",
    "    \\beta_n \n",
    "    \\end{pmatrix} =\n",
    "    \\begin{pmatrix}\n",
    "    \\frac{\\mu I_1}{1-I_1}\\\\\n",
    "    \\vdots\\\\\n",
    "    \\frac{\\mu I_n}{1-I_n}\n",
    "    \\end{pmatrix}\n",
    "    \\end{align}\n",
    "    $$\n",
    "    \n",
    "This can then be written as \n",
    "    $$\\mathbf{M}\\mathbf{\\beta}=\\mathbf{p}$$ \n",
    "where\n",
    "    $$M_{ij}=A_j\\theta{ji}$$\n",
    "    $$p_i=\\frac{\\mu I_i}{1-I_i}$$\n",
    "\n",
    "$\\mathbf{\\beta}$ is therefore given by:\n",
    "$$\\begin{align}\n",
    "\\mathbf{\\beta}=\\mathbf{M}^{-1}\\mathbf{p}\n",
    "\\end{align}$$\n"
   ]
  },
  {
   "cell_type": "code",
   "execution_count": 2,
   "metadata": {
    "scrolled": true
   },
   "outputs": [],
   "source": [
    "%matplotlib inline\n",
    "#%load_ext pycodestyle_magic"
   ]
  },
  {
   "cell_type": "code",
   "execution_count": 3,
   "metadata": {},
   "outputs": [],
   "source": [
    "#%pycodestyle_off"
   ]
  },
  {
   "cell_type": "code",
   "execution_count": 4,
   "metadata": {},
   "outputs": [],
   "source": [
    "import scipy.integrate as spi\n",
    "import numpy as np\n",
    "import pylab as pl\n",
    "import matplotlib.pyplot as plt\n",
    "import os\n",
    "# import math"
   ]
  },
  {
   "cell_type": "code",
   "execution_count": 5,
   "metadata": {
    "scrolled": false
   },
   "outputs": [],
   "source": [
    "# set the known parameters\n",
    "n = 3  # Pemba, Unguja, Mainland Tanzania (this is the order used in later arrays and matrices)\n",
    "mu = np.full(n, 0.005)  # mu in above equations, currently assuming 200 days for infection clearance (no treatment)\n",
    "pop = np.array([406848, 896721, 43625354])  # Total population in each patch (N in above equations), divided by 1000\n",
    "I_eff = np.zeros((n))"
   ]
  },
  {
   "cell_type": "code",
   "execution_count": 6,
   "metadata": {},
   "outputs": [
    {
     "name": "stdout",
     "output_type": "stream",
     "text": [
      "[[9.90698e-01 3.86900e-03 5.70000e-05]\n",
      " [3.18200e-03 9.70198e-01 5.33000e-04]\n",
      " [6.12000e-03 2.59330e-02 9.99410e-01]]\n"
     ]
    }
   ],
   "source": [
    "# Decide whether movement from the mainland will be included or not\n",
    "\n",
    "movement_mainland = True\n",
    "if movement_mainland:\n",
    "    theta = np.mat('0.990698 0.003869 0.000057; 0.003182 0.970198 0.000533; 0.00612 0.025933 0.99941')\n",
    "else:\n",
    "    theta = np.mat('0.990698 0.003869 0; 0.003182 0.970198 0; 0.00612 0.025933 1')\n",
    "\n",
    "print(theta)"
   ]
  },
  {
   "cell_type": "code",
   "execution_count": 7,
   "metadata": {},
   "outputs": [
    {
     "name": "stdout",
     "output_type": "stream",
     "text": [
      "[0.01364 0.01175 0.0779 ]\n"
     ]
    }
   ],
   "source": [
    "# Decide whether index cases or index households or neither are to be included in the prevalence dataset\n",
    "# Equilibrium prevalence is measured using qPCR with a cut off of 0.13 parasites/microlitre\n",
    "\n",
    "index_cases = False  # everyone included including index cases and households\n",
    "index_house = False  # index cases not included but index households are included\n",
    "neither = True  # neither index cases nor households are included\n",
    "\n",
    "if index_cases:\n",
    "    I_eq = np.array([0.0331, 0.04615, 0.0779])\n",
    "elif index_house:\n",
    "    I_eq = np.array([0.0184, 0.02683, 0.0779])\n",
    "elif neither:\n",
    "    I_eq = np.array([0.01364, 0.01175, 0.0779])\n",
    "else:\n",
    "    print('Error: one of the three options needs to be selected.')\n",
    "print(I_eq)"
   ]
  },
  {
   "cell_type": "code",
   "execution_count": 8,
   "metadata": {},
   "outputs": [
    {
     "name": "stdout",
     "output_type": "stream",
     "text": [
      "Matrix A\n",
      " [[0.01401464 0.         0.        ]\n",
      " [0.         0.0134722  0.        ]\n",
      " [0.         0.         0.07786107]]\n",
      "Matrix M\n",
      " [[1.38842747e-02 4.28685545e-05 4.76509754e-04]\n",
      " [5.42226378e-05 1.30707058e-02 2.01917115e-03]\n",
      " [7.98834416e-07 7.18068495e-06 7.78151328e-02]]\n",
      "Vector p\n",
      " [6.91431120e-05 5.94485201e-05 4.22405379e-04]\n"
     ]
    }
   ],
   "source": [
    "# form matrix M and vector p\n",
    "for i in range(n):\n",
    "    I_eff[i] = np.dot(pop*I_eq, np.transpose(theta[i, :]))/np.dot(pop, np.transpose(theta[i, :]))\n",
    "A = np.diag(I_eff)\n",
    "print('Matrix A\\n', A)\n",
    "M = np.transpose(np.dot(A, theta))\n",
    "print('Matrix M\\n', M)\n",
    "\n",
    "p = (mu*I_eq)/(1-I_eq)\n",
    "print('Vector p\\n', p)"
   ]
  },
  {
   "cell_type": "code",
   "execution_count": 9,
   "metadata": {},
   "outputs": [
    {
     "name": "stdout",
     "output_type": "stream",
     "text": [
      "Beta for Pemba, Unguja and Mainland Tanzania\n",
      " [[0.00478228 0.00368988 0.00542793]]\n"
     ]
    }
   ],
   "source": [
    "# Calculate beta using the inverse of M and p\n",
    "\n",
    "M_inv = np.linalg.inv(M)\n",
    "beta = np.dot(M_inv, np.transpose(p))\n",
    "print('Beta for Pemba, Unguja and Mainland Tanzania\\n', beta)\n",
    "beta = np.array(beta)"
   ]
  },
  {
   "cell_type": "markdown",
   "metadata": {},
   "source": [
    "### Uncertainty estimates for beta\n",
    "\n",
    "There is some uncertainty in the travel history of the population and in the prevalence in the population. Additionally, the clearance rate is also not known exactly, but here, we will assume this to be the fixed value of 0.005 per day. Thus, we sample a range of possible values for $I_{equilibrium}$ and $\\theta$. \n",
    "\n",
    "The equilibrium prevalence is Binomially distributed around the sample prevalence ($\\hat{p}$), and sample size $N$, scaled by the sample size.\n",
    " \n",
    "$$\\begin{align}\n",
    "I_{equilibrium} \\sim B(N,\\hat{p})/N \n",
    "\\end{align}$$\n",
    "\n",
    "The distribution for the proportion of time spent on the mainland and the other island by residents of Pemba and Unguja comes in two parts: the Binomial distribution for the probability of a survey respondent having travelled over the last 60 days, and then the Multinomial distribution for the destination to which they are likely to have travelled.  "
   ]
  },
  {
   "cell_type": "code",
   "execution_count": 10,
   "metadata": {},
   "outputs": [],
   "source": [
    "def mainland_no_move_theta(samples, travel, prop, theta, sample_tot,\n",
    "                           travellers, mean_travel_pem, mean_travel_ung):\n",
    "    for i in range(samples):\n",
    "        travel[i,] = np.random.binomial(sample_tot, travellers/sample_tot,2)  # draws no. of travellers\n",
    "        prop[i,0,] = np.random.multinomial(travel[i,0]*60,mean_travel_pem,1)  # number of person-nights spent by Pemba travellers in the three patches\n",
    "        prop[i,1,] = np.random.multinomial(travel[i,1]*60,mean_travel_ung,1)\n",
    "\n",
    "        theta[i,1,0] = prop[i,0,1]/(60*sample_tot[0])\n",
    "        theta[i,2,0] = prop[i,0,2]/(60*sample_tot[0])\n",
    "        theta[i,0,1] = prop[i,1,0]/(60*sample_tot[1])\n",
    "        theta[i,2,1] = prop[i,1,2]/(60*sample_tot[1])\n",
    "        theta[i,0,0] = 1-sum(theta[i,1:3,0])\n",
    "        theta[i,1,1] = 1-(theta[i,0,1]+theta[i,2,1])\n",
    "        theta[i,:,2] = [0,0,1]\n",
    "    return theta\n",
    "\n",
    "\n",
    "def mainland_move_theta(samples, travel, prop, theta, sample_tot,\n",
    "                        travellers, mean_travel_pem, mean_travel_ung, pop):\n",
    "    for i in range(samples):\n",
    "        travel[i,] = np.random.binomial(sample_tot, travellers/sample_tot,2)  # draws no. of travellers\n",
    "        prop[i,0,] = np.random.multinomial(travel[i,0]*60,mean_travel_pem,1)  # number of person-nights spent by Pemba travellers in the three patches\n",
    "        prop[i,1,] = np.random.multinomial(travel[i,1]*60,mean_travel_ung,1)\n",
    "\n",
    "        theta[i,1,0] = prop[i,0,1]/(60*sample_tot[0])\n",
    "        theta[i,2,0] = prop[i,0,2]/(60*sample_tot[0])\n",
    "        theta[i,0,1] = prop[i,1,0]/(60*sample_tot[1])\n",
    "        theta[i,2,1] = prop[i,1,2]/(60*sample_tot[1])\n",
    "        theta[i,0,0] = 1-sum(theta[i,1:3,0])\n",
    "        theta[i,1,1] = 1-(theta[i,0,1]+theta[i,2,1])\n",
    "        theta[i,0,2] = theta[i,2,0]*pop[0]/pop[2]\n",
    "        theta[i,1,2] = theta[i,2,1]*pop[1]/pop[2]\n",
    "        theta[i,2,2] = 1-sum(theta[i,0:2,2])\n",
    "    return theta"
   ]
  },
  {
   "cell_type": "code",
   "execution_count": 11,
   "metadata": {},
   "outputs": [],
   "source": [
    "# Sample prevalence from a Gaussian with a lower limit of 0\n",
    "# Sample travel from a uniform distribution between [0,0.1] for places outside of the place of residence\n",
    "samples = 30000\n",
    "#np.random.seed(2)\n",
    "I = np.zeros((samples, 3))\n",
    "\n",
    "qPCR_sample = np.array([2776, 3857, 100])  # qPCR sample size - for mainland TZ, this is approximated to have a similar variance to MAP prevalence estimates\n",
    "mean = I_eq  # mean prevalence in data\n",
    "\n",
    "#movement\n",
    "sample_tot = np.array([8176, 9700])  # sample for movement (all survey respondents)\n",
    "travellers = np.array([394, 1344])  # number of travellers in sample_tot\n",
    "\n",
    "for i in range(3):\n",
    "    for j in range(samples):\n",
    "        I[j,i] = (np.random.binomial(qPCR_sample[i], mean[i], 1))/qPCR_sample[i]\n",
    "\n",
    "\n",
    "travel = np.zeros((samples, 2))\n",
    "mean_travel_pem = np.array([0.80698, 0.06603, 0.12699])  # time spent in each location by travelers\n",
    "mean_travel_ung = np.array([0.02793, 0.78491, 0.18717])\n",
    "prop = np.zeros((samples, 2, 3))\n",
    "theta = np.zeros((samples, 3, 3))\n",
    "\n",
    "if movement_mainland:\n",
    "    theta = mainland_move_theta(samples, travel, prop, theta, sample_tot,\n",
    "                                travellers, mean_travel_pem, mean_travel_ung, pop)\n",
    "else:\n",
    "    theta = mainland_no_move_theta(samples, travel, prop, theta, sample_tot,\n",
    "                                   travellers, mean_travel_pem, mean_travel_ung)"
   ]
  },
  {
   "cell_type": "code",
   "execution_count": 12,
   "metadata": {},
   "outputs": [
    {
     "name": "stdout",
     "output_type": "stream",
     "text": [
      "[[9.90695643e-01 3.87126214e-03 5.70926948e-05]\n",
      " [3.18244197e-03 9.70191985e-01 5.33131045e-04]\n",
      " [6.12191536e-03 2.59367524e-02 9.99409776e-01]]\n"
     ]
    }
   ],
   "source": [
    "# check the mean of the final theta matrices looks like the one from the data\n",
    "x = np.mean(theta, 0)\n",
    "print(x)"
   ]
  },
  {
   "cell_type": "code",
   "execution_count": 13,
   "metadata": {},
   "outputs": [],
   "source": [
    "beta_vals = np.zeros((samples, 3))\n",
    "\n",
    "for j in range(samples):\n",
    "    I_eff = np.zeros((n))\n",
    "    I_eq = I[j,:]\n",
    "    theta_s = theta[j,:,:]\n",
    "    \n",
    "    for i in range(3):\n",
    "        I_eff[i] = np.dot(pop*I_eq, np.transpose(theta_s[i,:]))/np.dot(pop,np.transpose(theta_s[i,:]))\n",
    "        \n",
    "    A = np.diag(I_eff)\n",
    "    M = np.transpose(np.dot(A,theta_s))\n",
    "    p = (mu*I_eq)/(1-I_eq)\n",
    "    M_inv = np.linalg.inv(M)\n",
    "    beta = np.dot(M_inv,np.transpose(p))\n",
    "    beta = np.array(beta)\n",
    "    beta_vals[j,:] = beta"
   ]
  },
  {
   "cell_type": "code",
   "execution_count": 14,
   "metadata": {},
   "outputs": [
    {
     "data": {
      "image/png": "[encoded data removed]",
      "text/plain": [
       "<Figure size 432x288 with 1 Axes>"
      ]
     },
     "metadata": {
      "needs_background": "light"
     },
     "output_type": "display_data"
    },
    {
     "name": "stdout",
     "output_type": "stream",
     "text": [
      "[0.00477035 0.00367984 0.00542825] [0.00442496 0.00250499 0.0051583 ] [0.00502185 0.0046769  0.00575377]\n"
     ]
    }
   ],
   "source": [
    "loc = np.array(['Pemba', 'Unguja', 'Mainland'])\n",
    "num_bins = 500\n",
    "\n",
    "for i in range(2):\n",
    "    plt.hist(beta_vals[:,i], num_bins, label=loc[i], alpha=0.7)\n",
    "\n",
    "plt.xlabel(\"Beta\")\n",
    "plt.ylabel(\"Frequency\")\n",
    "plt.legend(loc=0)\n",
    "plt.savefig(\"../figures/beta_estimates.png\")\n",
    "plt.show()\n",
    "\n",
    "beta_mean = np.mean(beta_vals, axis=0)\n",
    "beta_sd = np.std(beta_vals, axis=0)\n",
    "print(beta_mean, np.quantile(beta_vals,q=0.025, axis=0), np.quantile(beta_vals,q=0.975, axis=0))"
   ]
  },
  {
   "cell_type": "code",
   "execution_count": 15,
   "metadata": {
    "scrolled": true
   },
   "outputs": [
    {
     "name": "stdout",
     "output_type": "stream",
     "text": [
      "[0.9540703  0.73596733 1.08565089] [0.03073945 0.11186435 0.05602873] [0.88499257 0.5009972  1.03166099] [1.00436985 0.93537915 1.15075325]\n"
     ]
    },
    {
     "data": {
      "image/png": "[encoded data removed]",
      "text/plain": [
       "<Figure size 432x288 with 1 Axes>"
      ]
     },
     "metadata": {
      "needs_background": "light"
     },
     "output_type": "display_data"
    }
   ],
   "source": [
    "R0_vals = beta_vals/mu\n",
    "\n",
    "loc = np.array(['Pemba', 'Unguja', 'Mainland'])\n",
    "num_bins = 500\n",
    "# plt.figure()\n",
    "for i in range(2):\n",
    "    plt.hist(R0_vals[:,i], num_bins, label=loc[i], alpha=0.7)\n",
    "\n",
    "plt.xlabel(\"$R_0$\")\n",
    "plt.ylabel(\"Frequency\")\n",
    "plt.legend(loc=0)\n",
    "plt.savefig(\"../figures/R0_estimates.png\")\n",
    "\n",
    "R0_mean = np.mean(R0_vals, axis=0)\n",
    "R0_sd = np.std(R0_vals, axis=0)\n",
    "print(R0_mean, R0_sd, np.quantile(R0_vals,q=0.025, axis=0), np.quantile(R0_vals,q=0.975, axis=0))"
   ]
  },
  {
   "cell_type": "markdown",
   "metadata": {},
   "source": [
    "The results are summarised in the following table. $R_0$ in this context is the basic reproductive number under the condition of no movement. \n",
    "\n",
    "| Location | $\\beta$ | $R_0$ |\n",
    "|:--------:|:-------:|-------|\n",
    "| Pemba    | 0.0048 \\[0.0044-0.0050\\]     | 0.95 \\[0.88-1.00\\]   |\n",
    "| Unguja   | 0.0037 \\[0.0025-0.0047\\]     | 0.74 \\[0.50-0.94\\]   |\n",
    "| Mainland | 0.0054 \\[0.0052-0.0058\\]     | 1.09 \\[1.03-1.15\\]   |\n"
   ]
  }
 ],
 "metadata": {
  "kernelspec": {
   "display_name": "Python 3",
   "language": "python",
   "name": "python3"
  },
  "language_info": {
   "codemirror_mode": {
    "name": "ipython",
    "version": 3
   },
   "file_extension": ".py",
   "mimetype": "text/x-python",
   "name": "python",
   "nbconvert_exporter": "python",
   "pygments_lexer": "ipython3",
   "version": "3.7.0"
  }
 },
 "nbformat": 4,
 "nbformat_minor": 2
}
